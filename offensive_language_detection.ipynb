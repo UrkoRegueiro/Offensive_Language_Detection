{
 "cells": [
  {
   "cell_type": "markdown",
   "id": "b44ae474-a781-47ba-8b95-8bdca0126398",
   "metadata": {},
   "source": [
    "# 1. Introduction\n",
    "\n",
    "This dataset, named hate_speech_offensive, is a meticulously curated collection of annotated tweets with the specific purpose of detecting hate speech and offensive language. The dataset primarily consists of English tweets and is designed to train machine learning models or algorithms in the task of hate speech detection.<br>\n",
    "The dataset includes several columns that provide valuable information for understanding each tweet's classification. The column count represents the total number of annotations provided for each tweet, whereas hate_speech_count signifies how many annotations classified a particular tweet as hate speech. On the other hand, offensive_language_count indicates the number of annotations categorizing a tweet as containing offensive language. Additionally, neither_count denotes how many annotations identified a tweet as neither hate speech nor offensive language."
   ]
  },
  {
   "cell_type": "markdown",
   "id": "7adf9c2b-f35d-4078-aee0-0c3d907a88c7",
   "metadata": {},
   "source": [
    "Let's delve into the key columns:"
   ]
  },
  {
   "cell_type": "markdown",
   "id": "874189c5-06b2-4321-840e-e1a3680da2d4",
   "metadata": {},
   "source": [
    "| Column name              | Type   | Description                                                                                  |\n",
    "|--------------------------|--------|----------------------------------------------------------------------------------------------|\n",
    "| count                    | int    | The total number of annotations for each tweet.                                              |\n",
    "| hate_speech_count        | int    | The number of annotations classifying a tweet as hate speech.                                |\n",
    "| offensive_language_count | int    | The number of annotations classifying a tweet as offensive language.                         |\n",
    "| neither_count            | int    | The number of annotations classifying a tweet as neither hate speech nor offensive language. |\n",
    "| class                    | int    | Tweet type, 0 for hate, 1 for offensive and 2 for neutral.                                   |\n",
    "| tweet                    | object | Annotated tweet                                                                              |"
   ]
  },
  {
   "cell_type": "markdown",
   "id": "3a50d14c-3558-4102-9610-c46a8f832684",
   "metadata": {},
   "source": [
    "# 2. Import Dataset and packages"
   ]
  },
  {
   "cell_type": "code",
   "execution_count": 2,
   "id": "8f18dd1f-5f10-45fb-b131-b06369568ca4",
   "metadata": {
    "tags": []
   },
   "outputs": [],
   "source": [
    "import pandas as pd\n",
    "import numpy as np\n",
    "import matplotlib.pyplot as plt\n",
    "import seaborn as sns\n",
    "import re\n",
    "from collections import Counter\n",
    "import nltk\n",
    "from nltk.stem import PorterStemmer\n",
    "\n",
    "from sklearn.feature_extraction.text import CountVectorizer\n",
    "from sklearn.feature_extraction.text import TfidfTransformer\n",
    "\n",
    "\n",
    "# Preprocess:\n",
    "from sklearn.model_selection import train_test_split\n",
    "\n",
    "# Models:\n",
    "from sklearn.naive_bayes import MultinomialNB\n",
    "from sklearn.svm import SVC\n",
    "from sklearn.linear_model import LogisticRegression\n",
    "from sklearn.ensemble import RandomForestClassifier\n",
    "\n",
    "# Model selection:\n",
    "from sklearn.model_selection import LeaveOneOut\n",
    "from sklearn.model_selection import KFold\n",
    "from sklearn.model_selection import StratifiedKFold\n",
    "from sklearn.model_selection import GridSearchCV\n",
    "\n",
    "# Metrics:\n",
    "from sklearn.metrics import accuracy_score\n",
    "from sklearn.metrics import precision_score\n",
    "from sklearn.metrics import recall_score\n",
    "from sklearn.metrics import f1_score\n",
    "from sklearn.metrics import confusion_matrix, ConfusionMatrixDisplay\n",
    "\n",
    "# Warnings:\n",
    "import warnings\n",
    "warnings.filterwarnings(\"ignore\")\n",
    "\n",
    "# Time:\n",
    "import tqdm"
   ]
  },
  {
   "cell_type": "code",
   "execution_count": 3,
   "id": "85ee5172-02de-472c-9316-f5e2a87be59f",
   "metadata": {
    "tags": []
   },
   "outputs": [],
   "source": [
    "# Load dataset:\n",
    "df = pd.read_csv(\"twitter_comments.csv\")"
   ]
  },
  {
   "cell_type": "markdown",
   "id": "3463f6b8-2827-4f5e-8b50-80de222e43c8",
   "metadata": {},
   "source": [
    "Credit to https://huggingface.co/datasets/hate_speech_offensive."
   ]
  },
  {
   "cell_type": "code",
   "execution_count": 4,
   "id": "825712c1-fa8a-4d2f-a36d-249d4fda9045",
   "metadata": {
    "tags": []
   },
   "outputs": [],
   "source": [
    "df_preprocess = df.copy()"
   ]
  },
  {
   "cell_type": "markdown",
   "id": "9e76ec04-a059-459e-baf4-75d80d0345cd",
   "metadata": {},
   "source": [
    "# 3. Data Preparation\n",
    "\n",
    "In this section we're gonna prepare and organize the data. This involves cleaning and pre-processing the raw data, and structuring it in a way that is conducive to effective analysis and model training."
   ]
  },
  {
   "cell_type": "markdown",
   "id": "2c3c10d8-cd64-4bbb-ae29-a70bf742ee3b",
   "metadata": {},
   "source": [
    "## 3.1. Exploratory Data Analysis\n",
    "\n",
    "Before diving into the technical aspects of the project, it's crucial to gain a comprehensive understanding of the data. Exploratory Data Analysis (EDA) involves visualizing and summarizing key characteristics of our dataset. This section helps us identify patterns, outliers, and potential challenges, providing valuable insights that inform subsequent stages of your project."
   ]
  },
  {
   "cell_type": "code",
   "execution_count": 5,
   "id": "a460fc10-9e21-482f-a8a6-53f173966c92",
   "metadata": {
    "tags": []
   },
   "outputs": [
    {
     "name": "stdout",
     "output_type": "stream",
     "text": [
      "<class 'pandas.core.frame.DataFrame'>\n",
      "RangeIndex: 24783 entries, 0 to 24782\n",
      "Data columns (total 6 columns):\n",
      " #   Column                    Non-Null Count  Dtype \n",
      "---  ------                    --------------  ----- \n",
      " 0   count                     24783 non-null  int64 \n",
      " 1   hate_speech_count         24783 non-null  int64 \n",
      " 2   offensive_language_count  24783 non-null  int64 \n",
      " 3   neither_count             24783 non-null  int64 \n",
      " 4   class                     24783 non-null  int64 \n",
      " 5   tweet                     24783 non-null  object\n",
      "dtypes: int64(5), object(1)\n",
      "memory usage: 1.1+ MB\n"
     ]
    }
   ],
   "source": [
    "df_preprocess.info()"
   ]
  },
  {
   "cell_type": "code",
   "execution_count": 6,
   "id": "f037292f-70cf-429d-8387-fcbca8274de8",
   "metadata": {
    "tags": []
   },
   "outputs": [
    {
     "data": {
      "text/html": [
       "<div>\n",
       "<style scoped>\n",
       "    .dataframe tbody tr th:only-of-type {\n",
       "        vertical-align: middle;\n",
       "    }\n",
       "\n",
       "    .dataframe tbody tr th {\n",
       "        vertical-align: top;\n",
       "    }\n",
       "\n",
       "    .dataframe thead th {\n",
       "        text-align: right;\n",
       "    }\n",
       "</style>\n",
       "<table border=\"1\" class=\"dataframe\">\n",
       "  <thead>\n",
       "    <tr style=\"text-align: right;\">\n",
       "      <th></th>\n",
       "      <th>count</th>\n",
       "      <th>hate_speech_count</th>\n",
       "      <th>offensive_language_count</th>\n",
       "      <th>neither_count</th>\n",
       "      <th>class</th>\n",
       "      <th>tweet</th>\n",
       "    </tr>\n",
       "  </thead>\n",
       "  <tbody>\n",
       "    <tr>\n",
       "      <th>0</th>\n",
       "      <td>3</td>\n",
       "      <td>0</td>\n",
       "      <td>0</td>\n",
       "      <td>3</td>\n",
       "      <td>2</td>\n",
       "      <td>!!! RT @mayasolovely: As a woman you shouldn't...</td>\n",
       "    </tr>\n",
       "    <tr>\n",
       "      <th>1</th>\n",
       "      <td>3</td>\n",
       "      <td>0</td>\n",
       "      <td>3</td>\n",
       "      <td>0</td>\n",
       "      <td>1</td>\n",
       "      <td>!!!!! RT @mleew17: boy dats cold...tyga dwn ba...</td>\n",
       "    </tr>\n",
       "    <tr>\n",
       "      <th>2</th>\n",
       "      <td>3</td>\n",
       "      <td>0</td>\n",
       "      <td>3</td>\n",
       "      <td>0</td>\n",
       "      <td>1</td>\n",
       "      <td>!!!!!!! RT @UrKindOfBrand Dawg!!!! RT @80sbaby...</td>\n",
       "    </tr>\n",
       "  </tbody>\n",
       "</table>\n",
       "</div>"
      ],
      "text/plain": [
       "   count  hate_speech_count  offensive_language_count  neither_count  class  \\\n",
       "0      3                  0                         0              3      2   \n",
       "1      3                  0                         3              0      1   \n",
       "2      3                  0                         3              0      1   \n",
       "\n",
       "                                               tweet  \n",
       "0  !!! RT @mayasolovely: As a woman you shouldn't...  \n",
       "1  !!!!! RT @mleew17: boy dats cold...tyga dwn ba...  \n",
       "2  !!!!!!! RT @UrKindOfBrand Dawg!!!! RT @80sbaby...  "
      ]
     },
     "execution_count": 6,
     "metadata": {},
     "output_type": "execute_result"
    }
   ],
   "source": [
    "df_preprocess.head(3)"
   ]
  },
  {
   "cell_type": "code",
   "execution_count": 7,
   "id": "34a059ee-3062-41b9-8704-7ac02bbfe51a",
   "metadata": {
    "tags": []
   },
   "outputs": [
    {
     "data": {
      "text/html": [
       "<div>\n",
       "<style scoped>\n",
       "    .dataframe tbody tr th:only-of-type {\n",
       "        vertical-align: middle;\n",
       "    }\n",
       "\n",
       "    .dataframe tbody tr th {\n",
       "        vertical-align: top;\n",
       "    }\n",
       "\n",
       "    .dataframe thead th {\n",
       "        text-align: right;\n",
       "    }\n",
       "</style>\n",
       "<table border=\"1\" class=\"dataframe\">\n",
       "  <thead>\n",
       "    <tr style=\"text-align: right;\">\n",
       "      <th></th>\n",
       "      <th>offensive</th>\n",
       "      <th>neutral</th>\n",
       "      <th>hate</th>\n",
       "    </tr>\n",
       "  </thead>\n",
       "  <tbody>\n",
       "    <tr>\n",
       "      <th>count</th>\n",
       "      <td>19190</td>\n",
       "      <td>4163</td>\n",
       "      <td>1430</td>\n",
       "    </tr>\n",
       "  </tbody>\n",
       "</table>\n",
       "</div>"
      ],
      "text/plain": [
       "       offensive  neutral  hate\n",
       "count      19190     4163  1430"
      ]
     },
     "execution_count": 7,
     "metadata": {},
     "output_type": "execute_result"
    }
   ],
   "source": [
    "language = df_preprocess[\"class\"].value_counts().to_frame().T\n",
    "language.columns = [\"offensive\", \"neutral\", \"hate\"]\n",
    "language"
   ]
  },
  {
   "cell_type": "code",
   "execution_count": 8,
   "id": "fa43ee09-347c-4e4b-b22b-2a376f9afb7c",
   "metadata": {
    "tags": []
   },
   "outputs": [
    {
     "data": {
      "image/png": "[encoded data removed]",
      "text/plain": [
       "<Figure size 640x480 with 1 Axes>"
      ]
     },
     "metadata": {},
     "output_type": "display_data"
    }
   ],
   "source": [
    "sns.barplot(language, palette= \"deep\")\n",
    "plt.title(\"Total number of tweets of each type\")\n",
    "plt.show()"
   ]
  },
  {
   "cell_type": "code",
   "execution_count": 9,
   "id": "7b34da83-528c-479e-be45-e1716efefa3e",
   "metadata": {
    "tags": []
   },
   "outputs": [
    {
     "data": {
      "text/html": [
       "<div>\n",
       "<style scoped>\n",
       "    .dataframe tbody tr th:only-of-type {\n",
       "        vertical-align: middle;\n",
       "    }\n",
       "\n",
       "    .dataframe tbody tr th {\n",
       "        vertical-align: top;\n",
       "    }\n",
       "\n",
       "    .dataframe thead th {\n",
       "        text-align: right;\n",
       "    }\n",
       "</style>\n",
       "<table border=\"1\" class=\"dataframe\">\n",
       "  <thead>\n",
       "    <tr style=\"text-align: right;\">\n",
       "      <th></th>\n",
       "      <th>offensive_language_count</th>\n",
       "      <th>neither_count</th>\n",
       "      <th>hate_speech_count</th>\n",
       "    </tr>\n",
       "  </thead>\n",
       "  <tbody>\n",
       "    <tr>\n",
       "      <th>count</th>\n",
       "      <td>59819</td>\n",
       "      <td>13612</td>\n",
       "      <td>6952</td>\n",
       "    </tr>\n",
       "  </tbody>\n",
       "</table>\n",
       "</div>"
      ],
      "text/plain": [
       "       offensive_language_count  neither_count  hate_speech_count\n",
       "count                     59819          13612               6952"
      ]
     },
     "execution_count": 9,
     "metadata": {},
     "output_type": "execute_result"
    }
   ],
   "source": [
    "language_count = df_preprocess[[\"hate_speech_count\", \"offensive_language_count\", \"neither_count\"]].sum(axis=0).sort_values(ascending= False).to_frame().T\n",
    "language.columns = [\"offensive_language\", \"neutral\", \"hate_speech\"]\n",
    "language_count.index = [\"count\"]\n",
    "language_count"
   ]
  },
  {
   "cell_type": "code",
   "execution_count": 10,
   "id": "2af57a03-5128-4dd5-b0c3-8de805f853c6",
   "metadata": {
    "tags": []
   },
   "outputs": [
    {
     "data": {
      "image/png": "[encoded data removed]",
      "text/plain": [
       "<Figure size 640x480 with 1 Axes>"
      ]
     },
     "metadata": {},
     "output_type": "display_data"
    }
   ],
   "source": [
    "sns.barplot(language_count, palette= \"deep\")\n",
    "plt.title(\"Total number of annotations categorizing a tweet\")\n",
    "plt.show()"
   ]
  },
  {
   "cell_type": "markdown",
   "id": "52c4d1de-646d-46ad-8a45-0adbe3dd4b67",
   "metadata": {},
   "source": [
    "## 3.2. Data Processing\n",
    "\n",
    "Data processing is a critical step to ensure that our data is in a suitable format for training and evaluation. This includes tasks such as tokenization, stemming, and handling missing values. The goal is to transform the raw data into a format that is compatible with the chosen language detection model."
   ]
  },
  {
   "cell_type": "markdown",
   "id": "adab6a84-a878-4393-84f3-d47eedfce0e0",
   "metadata": {},
   "source": [
    "- ### Checking duplicates and missing values"
   ]
  },
  {
   "cell_type": "code",
   "execution_count": 11,
   "id": "72af2731-e4ea-408b-af46-d322fb350042",
   "metadata": {
    "tags": []
   },
   "outputs": [
    {
     "data": {
      "text/plain": [
       "count                       0\n",
       "hate_speech_count           0\n",
       "offensive_language_count    0\n",
       "neither_count               0\n",
       "class                       0\n",
       "tweet                       0\n",
       "dtype: int64"
      ]
     },
     "execution_count": 11,
     "metadata": {},
     "output_type": "execute_result"
    }
   ],
   "source": [
    "df_preprocess.isna().sum()"
   ]
  },
  {
   "cell_type": "code",
   "execution_count": 12,
   "id": "f7545cd7-c935-44be-99f7-5442aed4dcef",
   "metadata": {
    "tags": []
   },
   "outputs": [
    {
     "data": {
      "text/html": [
       "<div>\n",
       "<style scoped>\n",
       "    .dataframe tbody tr th:only-of-type {\n",
       "        vertical-align: middle;\n",
       "    }\n",
       "\n",
       "    .dataframe tbody tr th {\n",
       "        vertical-align: top;\n",
       "    }\n",
       "\n",
       "    .dataframe thead th {\n",
       "        text-align: right;\n",
       "    }\n",
       "</style>\n",
       "<table border=\"1\" class=\"dataframe\">\n",
       "  <thead>\n",
       "    <tr style=\"text-align: right;\">\n",
       "      <th></th>\n",
       "      <th>count</th>\n",
       "      <th>hate_speech_count</th>\n",
       "      <th>offensive_language_count</th>\n",
       "      <th>neither_count</th>\n",
       "      <th>class</th>\n",
       "      <th>tweet</th>\n",
       "    </tr>\n",
       "  </thead>\n",
       "  <tbody>\n",
       "  </tbody>\n",
       "</table>\n",
       "</div>"
      ],
      "text/plain": [
       "Empty DataFrame\n",
       "Columns: [count, hate_speech_count, offensive_language_count, neither_count, class, tweet]\n",
       "Index: []"
      ]
     },
     "execution_count": 12,
     "metadata": {},
     "output_type": "execute_result"
    }
   ],
   "source": [
    "df_preprocess[df_preprocess.duplicated()]"
   ]
  },
  {
   "cell_type": "markdown",
   "id": "15d4c265-60c3-4639-81ca-cc8f37a42d0d",
   "metadata": {},
   "source": [
    "**There are no missing values, and there are neither duplicates.**"
   ]
  },
  {
   "cell_type": "markdown",
   "id": "9759b027-d5f8-4f9f-80d2-c9a5d544392c",
   "metadata": {
    "tags": []
   },
   "source": [
    "- ### Column Selection"
   ]
  },
  {
   "cell_type": "code",
   "execution_count": 13,
   "id": "0ead37bf-9289-4fbb-a86f-8f1e68c41d34",
   "metadata": {
    "tags": []
   },
   "outputs": [
    {
     "data": {
      "text/html": [
       "<div>\n",
       "<style scoped>\n",
       "    .dataframe tbody tr th:only-of-type {\n",
       "        vertical-align: middle;\n",
       "    }\n",
       "\n",
       "    .dataframe tbody tr th {\n",
       "        vertical-align: top;\n",
       "    }\n",
       "\n",
       "    .dataframe thead th {\n",
       "        text-align: right;\n",
       "    }\n",
       "</style>\n",
       "<table border=\"1\" class=\"dataframe\">\n",
       "  <thead>\n",
       "    <tr style=\"text-align: right;\">\n",
       "      <th></th>\n",
       "      <th>class</th>\n",
       "      <th>tweet</th>\n",
       "    </tr>\n",
       "  </thead>\n",
       "  <tbody>\n",
       "    <tr>\n",
       "      <th>0</th>\n",
       "      <td>2</td>\n",
       "      <td>!!! RT @mayasolovely: As a woman you shouldn't...</td>\n",
       "    </tr>\n",
       "    <tr>\n",
       "      <th>1</th>\n",
       "      <td>1</td>\n",
       "      <td>!!!!! RT @mleew17: boy dats cold...tyga dwn ba...</td>\n",
       "    </tr>\n",
       "    <tr>\n",
       "      <th>2</th>\n",
       "      <td>1</td>\n",
       "      <td>!!!!!!! RT @UrKindOfBrand Dawg!!!! RT @80sbaby...</td>\n",
       "    </tr>\n",
       "  </tbody>\n",
       "</table>\n",
       "</div>"
      ],
      "text/plain": [
       "   class                                              tweet\n",
       "0      2  !!! RT @mayasolovely: As a woman you shouldn't...\n",
       "1      1  !!!!! RT @mleew17: boy dats cold...tyga dwn ba...\n",
       "2      1  !!!!!!! RT @UrKindOfBrand Dawg!!!! RT @80sbaby..."
      ]
     },
     "execution_count": 13,
     "metadata": {},
     "output_type": "execute_result"
    }
   ],
   "source": [
    "df_preprocess = df_preprocess[[\"class\", \"tweet\"]]\n",
    "df_preprocess.head(3)"
   ]
  },
  {
   "cell_type": "markdown",
   "id": "74773089-8654-431d-ab82-d7f2d965cbd7",
   "metadata": {},
   "source": [
    "- ### Text processing"
   ]
  },
  {
   "cell_type": "markdown",
   "id": "623cee5e-ad5a-4d3d-a219-39c1066c2c31",
   "metadata": {},
   "source": [
    "Stopwords used for cleaning:"
   ]
  },
  {
   "cell_type": "code",
   "execution_count": 14,
   "id": "d4733251-675a-4b24-ab8b-4e7f0c24093f",
   "metadata": {},
   "outputs": [],
   "source": [
    "stopwords = nltk.corpus.stopwords.words(\"english\")"
   ]
  },
  {
   "cell_type": "markdown",
   "id": "86cddfd7-cf6b-4845-a7e5-51416833ac45",
   "metadata": {},
   "source": [
    "    -Functions for cleaning:"
   ]
  },
  {
   "cell_type": "code",
   "execution_count": 15,
   "id": "23a7a626-6716-49b2-a5d0-d614fe0702b1",
   "metadata": {
    "tags": []
   },
   "outputs": [],
   "source": [
    "def delete_sign(text):\n",
    "    '''\n",
    "    Function made to clean signs from the text.\n",
    "    '''\n",
    "    \n",
    "    clean_text= \"\"\n",
    "    for char in text:\n",
    "        if char.isalnum() or char.isspace():\n",
    "            clean_text += char       \n",
    "    return clean_text"
   ]
  },
  {
   "cell_type": "code",
   "execution_count": 16,
   "id": "9afa0df3-2362-4cd1-9609-e1e2bcc232a1",
   "metadata": {
    "tags": []
   },
   "outputs": [],
   "source": [
    "# Text cleaning function\n",
    "\n",
    "def text_cleaning(text, stemm = False):\n",
    "    \n",
    "    # Quito URL's\n",
    "    clean_text = re.sub(r'http[s]?://\\S+', '', text)\n",
    "    \n",
    "    # Quito usuarios de twitter\n",
    "    clean_text = re.sub(r'@([A-Za-z0-9_]+)', \"\", clean_text)\n",
    "    \n",
    "    # Quito emojis\n",
    "    clean_text = re.sub(r'&#[0-9]+;', '', clean_text)\n",
    "    \n",
    "    # Quito signos\n",
    "    clean_text = delete_sign(clean_text)\n",
    "    \n",
    "    # Quito RT, dobles y triples espacios y espacios a comienzo y final de frase\n",
    "    clean_text = clean_text.replace(\"RT\", \"\").strip().replace(\"   \", \" \").replace(\"  \", \" \")\n",
    "    \n",
    "    # Quito saltos de línea\n",
    "    clean_text = re.sub(r'\\s+', ' ', clean_text)\n",
    "    \n",
    "    # Paso todo a minusculas:\n",
    "    clean_text = clean_text.lower()\n",
    "    \n",
    "    # Quito stopwords:\n",
    "    tokens = nltk.word_tokenize(text = clean_text, language = \"english\")\n",
    "    \n",
    "    clean_tokens = []\n",
    "    stemmer = PorterStemmer()\n",
    "    for token in tokens: \n",
    "        if token not in stopwords: \n",
    "            if len(token) > 2:\n",
    "                if stemm:\n",
    "                    token = stemmer.stem(token)\n",
    "                    clean_tokens.append(token)\n",
    "                else:\n",
    "                    clean_tokens.append(token)\n",
    "\n",
    "    clean_text = \" \".join(clean_tokens)\n",
    "    \n",
    "    return clean_text"
   ]
  },
  {
   "cell_type": "markdown",
   "id": "b5965e3e-246c-434b-afe6-10cb078af0ad",
   "metadata": {},
   "source": [
    "#### Cleaning steps:\n",
    "    - Remove URLs\n",
    "    - Remove Twitter users\n",
    "    - Remove emojis\n",
    "    - Remove punctuation\n",
    "    - Remove \"RT\", double and triple spaces, and spaces at the beginning and end of sentences\n",
    "    - Remove line breaks\n",
    "    - Convert everything to lowercase\n",
    "    - Remove stopwords\n",
    "    - Stemming    "
   ]
  },
  {
   "cell_type": "code",
   "execution_count": 17,
   "id": "125e9522-fc57-401d-b471-31131bc64273",
   "metadata": {
    "tags": []
   },
   "outputs": [],
   "source": [
    "df_preprocess[\"clean_tweet\"] = df_preprocess[\"tweet\"].apply(text_cleaning, stemm = True)"
   ]
  },
  {
   "cell_type": "code",
   "execution_count": 18,
   "id": "33810065-ecec-48b1-aecf-5347e91e223f",
   "metadata": {
    "tags": []
   },
   "outputs": [
    {
     "data": {
      "text/html": [
       "<div>\n",
       "<style scoped>\n",
       "    .dataframe tbody tr th:only-of-type {\n",
       "        vertical-align: middle;\n",
       "    }\n",
       "\n",
       "    .dataframe tbody tr th {\n",
       "        vertical-align: top;\n",
       "    }\n",
       "\n",
       "    .dataframe thead th {\n",
       "        text-align: right;\n",
       "    }\n",
       "</style>\n",
       "<table border=\"1\" class=\"dataframe\">\n",
       "  <thead>\n",
       "    <tr style=\"text-align: right;\">\n",
       "      <th></th>\n",
       "      <th>class</th>\n",
       "      <th>tweet</th>\n",
       "      <th>clean_tweet</th>\n",
       "    </tr>\n",
       "  </thead>\n",
       "  <tbody>\n",
       "    <tr>\n",
       "      <th>0</th>\n",
       "      <td>2</td>\n",
       "      <td>!!! RT @mayasolovely: As a woman you shouldn't...</td>\n",
       "      <td>woman shouldnt complain clean hous amp man alw...</td>\n",
       "    </tr>\n",
       "    <tr>\n",
       "      <th>1</th>\n",
       "      <td>1</td>\n",
       "      <td>!!!!! RT @mleew17: boy dats cold...tyga dwn ba...</td>\n",
       "      <td>boy dat coldtyga dwn bad cuffin dat hoe 1st place</td>\n",
       "    </tr>\n",
       "    <tr>\n",
       "      <th>2</th>\n",
       "      <td>1</td>\n",
       "      <td>!!!!!!! RT @UrKindOfBrand Dawg!!!! RT @80sbaby...</td>\n",
       "      <td>dawg ever fuck bitch start cri confus shit</td>\n",
       "    </tr>\n",
       "  </tbody>\n",
       "</table>\n",
       "</div>"
      ],
      "text/plain": [
       "   class                                              tweet  \\\n",
       "0      2  !!! RT @mayasolovely: As a woman you shouldn't...   \n",
       "1      1  !!!!! RT @mleew17: boy dats cold...tyga dwn ba...   \n",
       "2      1  !!!!!!! RT @UrKindOfBrand Dawg!!!! RT @80sbaby...   \n",
       "\n",
       "                                         clean_tweet  \n",
       "0  woman shouldnt complain clean hous amp man alw...  \n",
       "1  boy dat coldtyga dwn bad cuffin dat hoe 1st place  \n",
       "2         dawg ever fuck bitch start cri confus shit  "
      ]
     },
     "execution_count": 18,
     "metadata": {},
     "output_type": "execute_result"
    }
   ],
   "source": [
    "df_preprocess.head(3)"
   ]
  },
  {
   "cell_type": "markdown",
   "id": "c049be9b-f9b4-47de-a200-34e1b588b18f",
   "metadata": {},
   "source": [
    "####  Five most frequently used words in each class:"
   ]
  },
  {
   "cell_type": "code",
   "execution_count": 19,
   "id": "4652c1c2-60c5-4ce2-9b3c-3f4bae43d6fd",
   "metadata": {
    "tags": []
   },
   "outputs": [
    {
     "data": {
      "text/html": [
       "<div>\n",
       "<style scoped>\n",
       "    .dataframe tbody tr th:only-of-type {\n",
       "        vertical-align: middle;\n",
       "    }\n",
       "\n",
       "    .dataframe tbody tr th {\n",
       "        vertical-align: top;\n",
       "    }\n",
       "\n",
       "    .dataframe thead th {\n",
       "        text-align: right;\n",
       "    }\n",
       "</style>\n",
       "<table border=\"1\" class=\"dataframe\">\n",
       "  <thead>\n",
       "    <tr style=\"text-align: right;\">\n",
       "      <th></th>\n",
       "      <th>neutral</th>\n",
       "      <th>offensive</th>\n",
       "      <th>hate</th>\n",
       "    </tr>\n",
       "  </thead>\n",
       "  <tbody>\n",
       "    <tr>\n",
       "      <th>0</th>\n",
       "      <td>trash</td>\n",
       "      <td>bitch</td>\n",
       "      <td>bitch</td>\n",
       "    </tr>\n",
       "    <tr>\n",
       "      <th>1</th>\n",
       "      <td>bird</td>\n",
       "      <td>hoe</td>\n",
       "      <td>faggot</td>\n",
       "    </tr>\n",
       "    <tr>\n",
       "      <th>2</th>\n",
       "      <td>like</td>\n",
       "      <td>like</td>\n",
       "      <td>fuck</td>\n",
       "    </tr>\n",
       "    <tr>\n",
       "      <th>3</th>\n",
       "      <td>yanke</td>\n",
       "      <td>pussi</td>\n",
       "      <td>nigga</td>\n",
       "    </tr>\n",
       "    <tr>\n",
       "      <th>4</th>\n",
       "      <td>charli</td>\n",
       "      <td>fuck</td>\n",
       "      <td>like</td>\n",
       "    </tr>\n",
       "  </tbody>\n",
       "</table>\n",
       "</div>"
      ],
      "text/plain": [
       "  neutral offensive    hate\n",
       "0   trash     bitch   bitch\n",
       "1    bird       hoe  faggot\n",
       "2    like      like    fuck\n",
       "3   yanke     pussi   nigga\n",
       "4  charli      fuck    like"
      ]
     },
     "execution_count": 19,
     "metadata": {},
     "output_type": "execute_result"
    }
   ],
   "source": [
    "classes = df_preprocess[\"class\"].unique()\n",
    "most_common_word = {}\n",
    "for clss in classes:\n",
    "    mask = (df_preprocess[\"class\"] == clss)\n",
    "    \n",
    "    word_count = Counter()\n",
    "    for text in df_preprocess[mask][\"clean_tweet\"].values:\n",
    "        for word in text.split():\n",
    "            word_count[word] += 1\n",
    "        \n",
    "    common_words = word_count.most_common(5)\n",
    "    most_common_word[clss] = [word[0] for word in common_words]\n",
    "    \n",
    "df_most_common_word = pd.DataFrame(most_common_word)\n",
    "df_most_common_word.columns = [\"neutral\" if col == 2 else \"offensive\" if col == 1 else \"hate\" for col in df_most_common_word.columns]\n",
    "df_most_common_word"
   ]
  },
  {
   "cell_type": "markdown",
   "id": "e15e5ac7-8a99-4328-9c95-8b016f8105e9",
   "metadata": {},
   "source": [
    "##### *The text is clean, next step will be text transformation.*"
   ]
  },
  {
   "cell_type": "markdown",
   "id": "f3062904-e49b-4ea6-8718-d39f5f79496c",
   "metadata": {},
   "source": [
    "- ### Text transformation:"
   ]
  },
  {
   "cell_type": "markdown",
   "id": "dedaef50-6671-485a-967a-4ef10ff54f98",
   "metadata": {},
   "source": [
    "    - Vectorization:"
   ]
  },
  {
   "cell_type": "code",
   "execution_count": 20,
   "id": "1e4582d6-9b2b-4aaa-803b-6423fbbfc598",
   "metadata": {
    "tags": []
   },
   "outputs": [],
   "source": [
    "# Inicializamos un objeto CountVecrtorizer()\n",
    "count_vectorizer = CountVectorizer(max_features = 3000) # ese parametro se queda con el top 1k palabras más utilizadas\n",
    "\n",
    "# Entrenamos el modelo y transformamos los datos:\n",
    "x = count_vectorizer.fit_transform(df_preprocess[\"clean_tweet\"])"
   ]
  },
  {
   "cell_type": "markdown",
   "id": "ece6b61b-31d8-4291-944e-4e9154b68dc9",
   "metadata": {},
   "source": [
    "    - Term Frequency-Inverse Document Frequency (TF-IDF) Transformation:"
   ]
  },
  {
   "cell_type": "code",
   "execution_count": 21,
   "id": "226443f2-c356-4723-8a01-acc5e1265562",
   "metadata": {
    "tags": []
   },
   "outputs": [],
   "source": [
    "# Inicializamos un objeto Tfidf. Ajustará los pesos de las palabras que aparecen en los tweets\n",
    "tfidf = TfidfTransformer()\n",
    "\n",
    "# Entrenamos el Tfidf y transformamos:\n",
    "X_processed = tfidf.fit_transform(x)"
   ]
  },
  {
   "cell_type": "markdown",
   "id": "4a0384a3-072c-45c0-952f-032d0c924a1d",
   "metadata": {},
   "source": [
    "- ### Variable selection:"
   ]
  },
  {
   "cell_type": "code",
   "execution_count": 22,
   "id": "5ab86069-1d6b-493e-b77a-ab9478ac01d8",
   "metadata": {},
   "outputs": [],
   "source": [
    "X = X_processed.copy()\n",
    "y = df_preprocess[\"class\"]"
   ]
  },
  {
   "cell_type": "markdown",
   "id": "f5a673dd-8f7b-42fd-abf5-e2dc4811e28c",
   "metadata": {},
   "source": [
    "- ### Train/Test Split:"
   ]
  },
  {
   "cell_type": "code",
   "execution_count": 23,
   "id": "3244a5e9-9f94-40bd-acdf-31009d25eaac",
   "metadata": {
    "tags": []
   },
   "outputs": [],
   "source": [
    "X, X_test_real, y, y_test_real = train_test_split(X, y, test_size = 0.2, random_state = 42, stratify= y)"
   ]
  },
  {
   "cell_type": "code",
   "execution_count": 25,
   "id": "d6b80033-012d-46c4-89a9-0876646f681c",
   "metadata": {
    "tags": []
   },
   "outputs": [
    {
     "name": "stdout",
     "output_type": "stream",
     "text": [
      "X_train: (19826, 3000), y_train: (19826,)\n",
      "X_test: (4957, 3000),  y_test: (4957,)\n"
     ]
    }
   ],
   "source": [
    "print(f\"X_train: {X.shape}, y_train: {y.shape}\")\n",
    "print(f\"X_test: {X_test_real.shape},  y_test: {y_test_real.shape}\")"
   ]
  },
  {
   "cell_type": "markdown",
   "id": "f5afe0d3-aa36-425c-960a-326eb6157d3b",
   "metadata": {},
   "source": [
    "# 4. Training Model\n",
    "\n",
    "This section focuses on the core of our language detection project — building and training the model that will make predictions based on the input data."
   ]
  },
  {
   "cell_type": "markdown",
   "id": "bd3468c5-9cce-4e8b-a3fb-69cf86fb630e",
   "metadata": {},
   "source": [
    "## 4.1. Model Selection\n",
    "\n",
    "In this subsection we'll explore various models and select the one that best aligns with our project goals and dataset characteristics. Consider factors such as model complexity, computational requirements, and performance metrics."
   ]
  },
  {
   "cell_type": "markdown",
   "id": "0c81b12f-ec5a-4ee6-adab-9e3ed4f4e9b2",
   "metadata": {},
   "source": [
    "### 4.1.1. Multinomial Naive Bayes(MNB) Model\n",
    "\n",
    "Well-suited for text classification tasks, especially when dealing with word counts or term frequencies. It assumes that the features are conditionally independent, given the class."
   ]
  },
  {
   "cell_type": "code",
   "execution_count": 23,
   "id": "dd793c82-9e50-41f1-852c-45a716dde54f",
   "metadata": {
    "tags": []
   },
   "outputs": [],
   "source": [
    "MNB_model = MultinomialNB()"
   ]
  },
  {
   "cell_type": "markdown",
   "id": "e71d9b3c-8a14-4fcf-9cca-c4b3f4a7325f",
   "metadata": {},
   "source": [
    "### 4.1.2. Support Vector Machines(SVM) Model\n",
    "\n",
    "SVMs are powerful classifiers that work well in high-dimensional spaces. They can be effective for text classification tasks, and various kernel functions can be used to capture complex relationships."
   ]
  },
  {
   "cell_type": "code",
   "execution_count": 24,
   "id": "d21ee493-2a4e-40ac-9777-2bd06573d15e",
   "metadata": {},
   "outputs": [],
   "source": [
    "SVM_model = SVC()"
   ]
  },
  {
   "cell_type": "markdown",
   "id": "a0a1cdcf-ddd6-4ca1-a182-0db34e765b34",
   "metadata": {},
   "source": [
    "### 4.1.3. Logistic Regression(LR) Model\n",
    "\n",
    "Logistic Regression is a simple yet effective linear model for multiclass classification. It works well for text data."
   ]
  },
  {
   "cell_type": "code",
   "execution_count": 25,
   "id": "970696d5-be00-4201-9eb8-5f994ddfe5d3",
   "metadata": {
    "tags": []
   },
   "outputs": [],
   "source": [
    "LR_model = LogisticRegression()"
   ]
  },
  {
   "cell_type": "markdown",
   "id": "b3707932-1731-47d4-8a54-7f13e51b8353",
   "metadata": {},
   "source": [
    "### 4.1.4.Random Forest Classifier(RFC) Model\n",
    "\n",
    "Random Forest is an ensemble learning method that combines multiple decision trees to improve overall performance. It is robust, handles non-linear relationships well, and can be effective for text classification."
   ]
  },
  {
   "cell_type": "code",
   "execution_count": 26,
   "id": "9ebd8405-eb8f-438c-aef9-aeb2a8852a70",
   "metadata": {
    "tags": []
   },
   "outputs": [],
   "source": [
    "RFC_model = RandomForestClassifier()"
   ]
  },
  {
   "cell_type": "code",
   "execution_count": 27,
   "id": "d29dd799-2732-4e50-b65e-b33024cc0196",
   "metadata": {
    "tags": []
   },
   "outputs": [],
   "source": [
    "############################################################"
   ]
  },
  {
   "cell_type": "markdown",
   "id": "6074eca3-c5e7-4f1d-92b3-b5df65b5cb1b",
   "metadata": {},
   "source": [
    "**Lista de modelos para entrenar:**"
   ]
  },
  {
   "cell_type": "code",
   "execution_count": 28,
   "id": "fb01967f-d3fe-4ac8-9981-476d2e9a8106",
   "metadata": {
    "tags": []
   },
   "outputs": [],
   "source": [
    "models = [MNB_model, SVM_model, LR_model, RFC_model]"
   ]
  },
  {
   "cell_type": "code",
   "execution_count": 29,
   "id": "890ed7d0-17b3-43f4-9526-89f37219d764",
   "metadata": {
    "tags": []
   },
   "outputs": [],
   "source": [
    "############################################################"
   ]
  },
  {
   "cell_type": "markdown",
   "id": "c1ce9ca5-af1f-43f1-b25c-4e468c10df67",
   "metadata": {},
   "source": [
    "## 4.2. Cross Validation\n",
    "\n",
    "To assess the generalization performance of our model, we'll employ cross-validation techniques. This involves splitting our dataset into multiple subsets, training the model on different combinations of these subsets, and evaluating its performance. Cross-validation helps ensure that our model is robust and not overfitting to the training data."
   ]
  },
  {
   "cell_type": "markdown",
   "id": "975bd7ae-0f71-4bf7-805b-fd92f5ed7628",
   "metadata": {},
   "source": [
    "### 4.2.1. Hold-Out"
   ]
  },
  {
   "cell_type": "code",
   "execution_count": 45,
   "id": "6c6e07e2-964d-4feb-b4a6-f8ff7fc4a80a",
   "metadata": {
    "tags": []
   },
   "outputs": [
    {
     "name": "stderr",
     "output_type": "stream",
     "text": [
      "100%|██████████| 50/50 [00:00<00:00, 68.53it/s]\n",
      "100%|██████████| 50/50 [07:25<00:00,  8.91s/it]\n",
      "100%|██████████| 50/50 [00:22<00:00,  2.21it/s]\n",
      "100%|██████████| 50/50 [14:13<00:00, 17.08s/it]"
     ]
    },
    {
     "name": "stdout",
     "output_type": "stream",
     "text": [
      "CPU times: total: 21min 51s\n",
      "Wall time: 22min 2s\n"
     ]
    },
    {
     "name": "stderr",
     "output_type": "stream",
     "text": [
      "\n"
     ]
    },
    {
     "data": {
      "text/html": [
       "<div>\n",
       "<style scoped>\n",
       "    .dataframe tbody tr th:only-of-type {\n",
       "        vertical-align: middle;\n",
       "    }\n",
       "\n",
       "    .dataframe tbody tr th {\n",
       "        vertical-align: top;\n",
       "    }\n",
       "\n",
       "    .dataframe thead th {\n",
       "        text-align: right;\n",
       "    }\n",
       "</style>\n",
       "<table border=\"1\" class=\"dataframe\">\n",
       "  <thead>\n",
       "    <tr style=\"text-align: right;\">\n",
       "      <th></th>\n",
       "      <th>model</th>\n",
       "      <th>mean_accuracy</th>\n",
       "      <th>mean_precision</th>\n",
       "      <th>mean_recall</th>\n",
       "      <th>mean_f1</th>\n",
       "    </tr>\n",
       "  </thead>\n",
       "  <tbody>\n",
       "    <tr>\n",
       "      <th>0</th>\n",
       "      <td>MultinomialNB</td>\n",
       "      <td>0.835107</td>\n",
       "      <td>0.838682</td>\n",
       "      <td>0.464279</td>\n",
       "      <td>0.489041</td>\n",
       "    </tr>\n",
       "    <tr>\n",
       "      <th>1</th>\n",
       "      <td>SVC</td>\n",
       "      <td>0.898562</td>\n",
       "      <td>0.782167</td>\n",
       "      <td>0.650470</td>\n",
       "      <td>0.666663</td>\n",
       "    </tr>\n",
       "    <tr>\n",
       "      <th>2</th>\n",
       "      <td>LogisticRegression</td>\n",
       "      <td>0.895296</td>\n",
       "      <td>0.786671</td>\n",
       "      <td>0.656777</td>\n",
       "      <td>0.685515</td>\n",
       "    </tr>\n",
       "    <tr>\n",
       "      <th>3</th>\n",
       "      <td>RandomForestClassifier</td>\n",
       "      <td>0.902150</td>\n",
       "      <td>0.778186</td>\n",
       "      <td>0.680123</td>\n",
       "      <td>0.694505</td>\n",
       "    </tr>\n",
       "  </tbody>\n",
       "</table>\n",
       "</div>"
      ],
      "text/plain": [
       "                    model  mean_accuracy  mean_precision  mean_recall  \\\n",
       "0           MultinomialNB       0.835107        0.838682     0.464279   \n",
       "1                     SVC       0.898562        0.782167     0.650470   \n",
       "2      LogisticRegression       0.895296        0.786671     0.656777   \n",
       "3  RandomForestClassifier       0.902150        0.778186     0.680123   \n",
       "\n",
       "    mean_f1  \n",
       "0  0.489041  \n",
       "1  0.666663  \n",
       "2  0.685515  \n",
       "3  0.694505  "
      ]
     },
     "execution_count": 45,
     "metadata": {},
     "output_type": "execute_result"
    }
   ],
   "source": [
    "%%time\n",
    "\n",
    "model_acc_holdout = []\n",
    "\n",
    "for model in models:\n",
    "\n",
    "    accuracy_holdout, precision_holdout, recall_holdout, f1_holdout = [], [], [], []\n",
    "    for i in tqdm.tqdm(range(50)):\n",
    "        X_train, X_test, y_train, y_test = train_test_split(X, y, test_size = 0.2, stratify = y)\n",
    "        model.fit(X_train, y_train)\n",
    "        y_pred = model.predict(X_test)\n",
    "        \n",
    "        accuracy_holdout.append(accuracy_score(y_test, y_pred))\n",
    "        precision_holdout.append(precision_score(y_test, y_pred, average = \"macro\"))\n",
    "        recall_holdout.append(recall_score(y_test, y_pred, average = \"macro\"))\n",
    "        f1_holdout.append(f1_score(y_test, y_pred, average = \"macro\"))\n",
    "    \n",
    "    model_acc_holdout.append([str(model).split(\"(\")[0],\n",
    "                              np.array(accuracy_holdout).mean(),\n",
    "                              np.array(precision_holdout).mean(),\n",
    "                              np.array(recall_holdout).mean(),\n",
    "                              np.array(f1_holdout).mean()\n",
    "                             ])\n",
    "\n",
    "df_acc_holdout = pd.DataFrame(model_acc_holdout, columns= [\"model\", \"mean_accuracy\", \"mean_precision\", \"mean_recall\", \"mean_f1\"])\n",
    "df_acc_holdout"
   ]
  },
  {
   "cell_type": "markdown",
   "id": "4fdeddb1-21ee-4c27-bee8-0874f763db2e",
   "metadata": {},
   "source": [
    "### 4.2.2. k-Fold Cross Validation"
   ]
  },
  {
   "cell_type": "code",
   "execution_count": 46,
   "id": "4f225d34-1674-4a7c-8d00-77d3ecdaf035",
   "metadata": {
    "tags": []
   },
   "outputs": [
    {
     "name": "stderr",
     "output_type": "stream",
     "text": [
      "5it [00:00, 174.48it/s]\n",
      "5it [00:44,  8.98s/it]\n",
      "5it [00:01,  2.98it/s]\n",
      "5it [01:24, 16.94s/it]\n"
     ]
    },
    {
     "data": {
      "text/html": [
       "<div>\n",
       "<style scoped>\n",
       "    .dataframe tbody tr th:only-of-type {\n",
       "        vertical-align: middle;\n",
       "    }\n",
       "\n",
       "    .dataframe tbody tr th {\n",
       "        vertical-align: top;\n",
       "    }\n",
       "\n",
       "    .dataframe thead th {\n",
       "        text-align: right;\n",
       "    }\n",
       "</style>\n",
       "<table border=\"1\" class=\"dataframe\">\n",
       "  <thead>\n",
       "    <tr style=\"text-align: right;\">\n",
       "      <th></th>\n",
       "      <th>model</th>\n",
       "      <th>accuracy</th>\n",
       "      <th>precision</th>\n",
       "      <th>recall</th>\n",
       "      <th>f1</th>\n",
       "    </tr>\n",
       "  </thead>\n",
       "  <tbody>\n",
       "    <tr>\n",
       "      <th>0</th>\n",
       "      <td>MultinomialNB</td>\n",
       "      <td>0.834805</td>\n",
       "      <td>0.808038</td>\n",
       "      <td>0.464087</td>\n",
       "      <td>0.488218</td>\n",
       "    </tr>\n",
       "    <tr>\n",
       "      <th>1</th>\n",
       "      <td>SVC</td>\n",
       "      <td>0.897289</td>\n",
       "      <td>0.790619</td>\n",
       "      <td>0.650230</td>\n",
       "      <td>0.668076</td>\n",
       "    </tr>\n",
       "    <tr>\n",
       "      <th>2</th>\n",
       "      <td>LogisticRegression</td>\n",
       "      <td>0.892560</td>\n",
       "      <td>0.777452</td>\n",
       "      <td>0.650656</td>\n",
       "      <td>0.677741</td>\n",
       "    </tr>\n",
       "    <tr>\n",
       "      <th>3</th>\n",
       "      <td>RandomForestClassifier</td>\n",
       "      <td>0.901261</td>\n",
       "      <td>0.768673</td>\n",
       "      <td>0.681521</td>\n",
       "      <td>0.694113</td>\n",
       "    </tr>\n",
       "  </tbody>\n",
       "</table>\n",
       "</div>"
      ],
      "text/plain": [
       "                    model  accuracy  precision    recall        f1\n",
       "0           MultinomialNB  0.834805   0.808038  0.464087  0.488218\n",
       "1                     SVC  0.897289   0.790619  0.650230  0.668076\n",
       "2      LogisticRegression  0.892560   0.777452  0.650656  0.677741\n",
       "3  RandomForestClassifier  0.901261   0.768673  0.681521  0.694113"
      ]
     },
     "execution_count": 46,
     "metadata": {},
     "output_type": "execute_result"
    }
   ],
   "source": [
    "kfold = KFold(n_splits = 5)\n",
    "model_acc_kfold = []\n",
    "\n",
    "for model in models:\n",
    "    y_pred = []\n",
    "    for train_index, test_index in tqdm.tqdm(kfold.split(X)): \n",
    "\n",
    "        X_train, X_test = X[train_index], X[test_index]\n",
    "        y_train = y[train_index]\n",
    "\n",
    "        model.fit(X_train, y_train)\n",
    "        y_pred_1 = model.predict(X_test)\n",
    "        y_pred.extend(y_pred_1)\n",
    "\n",
    "    model_acc_kfold.append([str(model).split(\"(\")[0],\n",
    "                            accuracy_score(y, y_pred),\n",
    "                            precision_score(y, y_pred, average = \"macro\"),\n",
    "                            recall_score(y, y_pred, average = \"macro\"),\n",
    "                            f1_score(y, y_pred, average = \"macro\")\n",
    "                           ])\n",
    "\n",
    "df_acc_kfold = pd.DataFrame(model_acc_kfold, columns= [\"model\", \"accuracy\", \"precision\", \"recall\", \"f1\"])\n",
    "df_acc_kfold"
   ]
  },
  {
   "cell_type": "markdown",
   "id": "02c70104-4173-4b91-bece-f76b1598c28f",
   "metadata": {},
   "source": [
    "### 4.2.3. Stratified k-Fold"
   ]
  },
  {
   "cell_type": "code",
   "execution_count": 47,
   "id": "6d8d1beb-8c69-4653-9ab3-d03ba49515b7",
   "metadata": {
    "tags": []
   },
   "outputs": [
    {
     "name": "stderr",
     "output_type": "stream",
     "text": [
      "5it [00:00, 187.57it/s]\n",
      "5it [00:44,  8.89s/it]\n",
      "5it [00:01,  3.04it/s]\n",
      "5it [01:24, 16.93s/it]\n"
     ]
    },
    {
     "data": {
      "text/html": [
       "<div>\n",
       "<style scoped>\n",
       "    .dataframe tbody tr th:only-of-type {\n",
       "        vertical-align: middle;\n",
       "    }\n",
       "\n",
       "    .dataframe tbody tr th {\n",
       "        vertical-align: top;\n",
       "    }\n",
       "\n",
       "    .dataframe thead th {\n",
       "        text-align: right;\n",
       "    }\n",
       "</style>\n",
       "<table border=\"1\" class=\"dataframe\">\n",
       "  <thead>\n",
       "    <tr style=\"text-align: right;\">\n",
       "      <th></th>\n",
       "      <th>model</th>\n",
       "      <th>accuracy</th>\n",
       "      <th>precision</th>\n",
       "      <th>recall</th>\n",
       "      <th>f1</th>\n",
       "    </tr>\n",
       "  </thead>\n",
       "  <tbody>\n",
       "    <tr>\n",
       "      <th>0</th>\n",
       "      <td>MultinomialNB</td>\n",
       "      <td>0.835309</td>\n",
       "      <td>0.786488</td>\n",
       "      <td>0.458711</td>\n",
       "      <td>0.480935</td>\n",
       "    </tr>\n",
       "    <tr>\n",
       "      <th>1</th>\n",
       "      <td>SVC</td>\n",
       "      <td>0.897037</td>\n",
       "      <td>0.765564</td>\n",
       "      <td>0.634820</td>\n",
       "      <td>0.650777</td>\n",
       "    </tr>\n",
       "    <tr>\n",
       "      <th>2</th>\n",
       "      <td>LogisticRegression</td>\n",
       "      <td>0.892055</td>\n",
       "      <td>0.758458</td>\n",
       "      <td>0.635290</td>\n",
       "      <td>0.661356</td>\n",
       "    </tr>\n",
       "    <tr>\n",
       "      <th>3</th>\n",
       "      <td>RandomForestClassifier</td>\n",
       "      <td>0.902522</td>\n",
       "      <td>0.759115</td>\n",
       "      <td>0.669482</td>\n",
       "      <td>0.683289</td>\n",
       "    </tr>\n",
       "  </tbody>\n",
       "</table>\n",
       "</div>"
      ],
      "text/plain": [
       "                    model  accuracy  precision    recall        f1\n",
       "0           MultinomialNB  0.835309   0.786488  0.458711  0.480935\n",
       "1                     SVC  0.897037   0.765564  0.634820  0.650777\n",
       "2      LogisticRegression  0.892055   0.758458  0.635290  0.661356\n",
       "3  RandomForestClassifier  0.902522   0.759115  0.669482  0.683289"
      ]
     },
     "execution_count": 47,
     "metadata": {},
     "output_type": "execute_result"
    }
   ],
   "source": [
    "skfold = StratifiedKFold(n_splits = 5)\n",
    "model_acc_skfold = []\n",
    "\n",
    "for model in models:\n",
    "    y_test_real, y_pred = [], []\n",
    "    for train_index, test_index in tqdm.tqdm(skfold.split(X, y)): \n",
    "\n",
    "        X_train, X_test = X[train_index], X[test_index]\n",
    "        y_train, y_test = y[train_index], y[test_index]\n",
    "\n",
    "        model.fit(X_train, y_train)\n",
    "        y_pred_1 = model.predict(X_test)\n",
    "        y_pred.extend(y_pred_1)\n",
    "        y_test_real.extend(y_test)\n",
    "\n",
    "    model_acc_skfold.append([str(model).split(\"(\")[0],\n",
    "                             accuracy_score(y_test_real, y_pred),\n",
    "                             precision_score(y, y_pred, average = \"macro\"),\n",
    "                             recall_score(y, y_pred, average = \"macro\"),\n",
    "                             f1_score(y, y_pred, average = \"macro\")\n",
    "                            ])\n",
    "\n",
    "df_acc_skfold = pd.DataFrame(model_acc_skfold, columns= [\"model\", \"accuracy\", \"precision\", \"recall\", \"f1\"])\n",
    "df_acc_skfold"
   ]
  },
  {
   "cell_type": "markdown",
   "id": "ce21840b-7641-45fe-b5d9-fcce3ebc5414",
   "metadata": {},
   "source": [
    "## 4.3. Hyperparameter Optimization\n",
    "\n",
    "Fine-tuning the hyperparameters of our model is essential for achieving optimal performance. In this subsection, we'll explore different hyperparameter values and optimization techniques to enhance the effectiveness of our selected model."
   ]
  },
  {
   "cell_type": "markdown",
   "id": "44c19c40-6c21-4e59-bf0c-17d16cf103cf",
   "metadata": {},
   "source": [
    "### 4.3.1. Random Forest Classifier Optimization"
   ]
  },
  {
   "cell_type": "code",
   "execution_count": 48,
   "id": "b8f29bbe-ee48-4c0b-88aa-cd1301e0749c",
   "metadata": {},
   "outputs": [],
   "source": [
    "RFC_model = RandomForestClassifier()\n",
    "\n",
    "parameters_RFC = {'n_estimators': [50, 100, 150, 200, 250],\n",
    "                  'max_depth': [None],\n",
    "                  'min_samples_split': [2, 4, 5],\n",
    "                  'min_samples_leaf': [1, 2],\n",
    "                  'max_features': ['sqrt'],\n",
    "                  'criterion': ['entropy']\n",
    "                 }"
   ]
  },
  {
   "cell_type": "code",
   "execution_count": null,
   "id": "6f490cca-7c4d-44c2-adbd-1855e8522236",
   "metadata": {},
   "outputs": [],
   "source": [
    "%%time\n",
    "\n",
    "RFC_results = []\n",
    "\n",
    "grid_solver_RFC = GridSearchCV(estimator      = RFC_model, \n",
    "                               param_grid     = parameters_RFC, \n",
    "                               scoring        = \"accuracy\",\n",
    "                               cv             = 5,\n",
    "                               verbose        = 99,\n",
    "                               refit          = \"accuracy\",\n",
    "                               n_jobs         = None)\n",
    "\n",
    "model_result_RFC = grid_solver_RFC.fit(X, y)"
   ]
  },
  {
   "cell_type": "code",
   "execution_count": 50,
   "id": "33190790-332f-4f66-9523-d62ce69c89db",
   "metadata": {
    "tags": []
   },
   "outputs": [],
   "source": [
    "results_RFC = pd.DataFrame(model_result_RFC.cv_results_).sort_values(by= \"mean_test_score\", ascending= False)[[\"mean_test_score\", \"std_test_score\", \"param_criterion\", \"param_max_depth\", \"param_max_features\", \"param_min_samples_leaf\", \"param_min_samples_split\", \"param_n_estimators\"]].head(5)"
   ]
  },
  {
   "cell_type": "code",
   "execution_count": 51,
   "id": "40f16c11-99ff-4baa-b09c-ae2d1716060c",
   "metadata": {
    "tags": []
   },
   "outputs": [
    {
     "data": {
      "text/html": [
       "<div>\n",
       "<style scoped>\n",
       "    .dataframe tbody tr th:only-of-type {\n",
       "        vertical-align: middle;\n",
       "    }\n",
       "\n",
       "    .dataframe tbody tr th {\n",
       "        vertical-align: top;\n",
       "    }\n",
       "\n",
       "    .dataframe thead th {\n",
       "        text-align: right;\n",
       "    }\n",
       "</style>\n",
       "<table border=\"1\" class=\"dataframe\">\n",
       "  <thead>\n",
       "    <tr style=\"text-align: right;\">\n",
       "      <th></th>\n",
       "      <th>mean_test_score</th>\n",
       "      <th>std_test_score</th>\n",
       "      <th>param_criterion</th>\n",
       "      <th>param_max_depth</th>\n",
       "      <th>param_max_features</th>\n",
       "      <th>param_min_samples_leaf</th>\n",
       "      <th>param_min_samples_split</th>\n",
       "      <th>param_n_estimators</th>\n",
       "    </tr>\n",
       "  </thead>\n",
       "  <tbody>\n",
       "    <tr>\n",
       "      <th>3</th>\n",
       "      <td>0.903216</td>\n",
       "      <td>0.003633</td>\n",
       "      <td>entropy</td>\n",
       "      <td>None</td>\n",
       "      <td>sqrt</td>\n",
       "      <td>1</td>\n",
       "      <td>2</td>\n",
       "      <td>200</td>\n",
       "    </tr>\n",
       "    <tr>\n",
       "      <th>4</th>\n",
       "      <td>0.903026</td>\n",
       "      <td>0.003219</td>\n",
       "      <td>entropy</td>\n",
       "      <td>None</td>\n",
       "      <td>sqrt</td>\n",
       "      <td>1</td>\n",
       "      <td>2</td>\n",
       "      <td>250</td>\n",
       "    </tr>\n",
       "    <tr>\n",
       "      <th>6</th>\n",
       "      <td>0.902900</td>\n",
       "      <td>0.004262</td>\n",
       "      <td>entropy</td>\n",
       "      <td>None</td>\n",
       "      <td>sqrt</td>\n",
       "      <td>1</td>\n",
       "      <td>4</td>\n",
       "      <td>100</td>\n",
       "    </tr>\n",
       "    <tr>\n",
       "      <th>7</th>\n",
       "      <td>0.902837</td>\n",
       "      <td>0.004088</td>\n",
       "      <td>entropy</td>\n",
       "      <td>None</td>\n",
       "      <td>sqrt</td>\n",
       "      <td>1</td>\n",
       "      <td>4</td>\n",
       "      <td>150</td>\n",
       "    </tr>\n",
       "    <tr>\n",
       "      <th>12</th>\n",
       "      <td>0.902270</td>\n",
       "      <td>0.003983</td>\n",
       "      <td>entropy</td>\n",
       "      <td>None</td>\n",
       "      <td>sqrt</td>\n",
       "      <td>1</td>\n",
       "      <td>5</td>\n",
       "      <td>150</td>\n",
       "    </tr>\n",
       "  </tbody>\n",
       "</table>\n",
       "</div>"
      ],
      "text/plain": [
       "    mean_test_score  std_test_score param_criterion param_max_depth  \\\n",
       "3          0.903216        0.003633         entropy            None   \n",
       "4          0.903026        0.003219         entropy            None   \n",
       "6          0.902900        0.004262         entropy            None   \n",
       "7          0.902837        0.004088         entropy            None   \n",
       "12         0.902270        0.003983         entropy            None   \n",
       "\n",
       "   param_max_features param_min_samples_leaf param_min_samples_split  \\\n",
       "3                sqrt                      1                       2   \n",
       "4                sqrt                      1                       2   \n",
       "6                sqrt                      1                       4   \n",
       "7                sqrt                      1                       4   \n",
       "12               sqrt                      1                       5   \n",
       "\n",
       "   param_n_estimators  \n",
       "3                 200  \n",
       "4                 250  \n",
       "6                 100  \n",
       "7                 150  \n",
       "12                150  "
      ]
     },
     "execution_count": 51,
     "metadata": {},
     "output_type": "execute_result"
    }
   ],
   "source": [
    "results_RFC.sort_values(by= \"mean_test_score\", ascending= False)"
   ]
  },
  {
   "cell_type": "markdown",
   "id": "4d8ca5a3-4110-4b54-a090-b807c7986b4e",
   "metadata": {
    "tags": []
   },
   "source": [
    "### 4.3.2. Support Vector Machines Optimization"
   ]
  },
  {
   "cell_type": "code",
   "execution_count": 39,
   "id": "60acb255-08ae-4ff1-a124-639fd89585e7",
   "metadata": {
    "tags": []
   },
   "outputs": [],
   "source": [
    "SVM_model = SVC()\n",
    "\n",
    "parameters_SVM = {'C': [0.1, 1, 5, 10],\n",
    "                  'kernel': ['rbf', \"poly\"],\n",
    "                  'gamma': ['scale', 'auto'],\n",
    "                  'degree': [2, 3, 4],\n",
    "                  #'coef0': np.linspace(-1, 1, 5)\n",
    "                 }"
   ]
  },
  {
   "cell_type": "code",
   "execution_count": null,
   "id": "d34bf16f-71a8-4711-8221-9f60653c45d8",
   "metadata": {
    "tags": []
   },
   "outputs": [],
   "source": [
    "%%time\n",
    "\n",
    "SVM_results = []\n",
    "\n",
    "grid_solver_SVM = GridSearchCV(estimator      = SVM_model, \n",
    "                               param_grid     = parameters_SVM, \n",
    "                               scoring        = \"accuracy\",\n",
    "                               cv             = 5,\n",
    "                               verbose        = 99,\n",
    "                               refit          = \"accuracy\",\n",
    "                               n_jobs         = None)\n",
    "\n",
    "model_result_SVM = grid_solver_SVM.fit(X, y)"
   ]
  },
  {
   "cell_type": "code",
   "execution_count": 42,
   "id": "9372d0fa-9437-4098-aa62-aac5fa57330a",
   "metadata": {
    "tags": []
   },
   "outputs": [],
   "source": [
    "results_SVM = pd.DataFrame(model_result_SVM.cv_results_).sort_values(by= \"mean_test_score\", ascending= False)[[\"mean_test_score\", \"std_test_score\", \"param_C\", \"param_degree\", \"param_gamma\", \"param_kernel\"]].head(5)"
   ]
  },
  {
   "cell_type": "code",
   "execution_count": 43,
   "id": "35a7ce02-383e-4a1e-81ce-26c73532b16a",
   "metadata": {
    "tags": []
   },
   "outputs": [
    {
     "data": {
      "text/html": [
       "<div>\n",
       "<style scoped>\n",
       "    .dataframe tbody tr th:only-of-type {\n",
       "        vertical-align: middle;\n",
       "    }\n",
       "\n",
       "    .dataframe tbody tr th {\n",
       "        vertical-align: top;\n",
       "    }\n",
       "\n",
       "    .dataframe thead th {\n",
       "        text-align: right;\n",
       "    }\n",
       "</style>\n",
       "<table border=\"1\" class=\"dataframe\">\n",
       "  <thead>\n",
       "    <tr style=\"text-align: right;\">\n",
       "      <th></th>\n",
       "      <th>mean_test_score</th>\n",
       "      <th>std_test_score</th>\n",
       "      <th>param_C</th>\n",
       "      <th>param_degree</th>\n",
       "      <th>param_gamma</th>\n",
       "      <th>param_kernel</th>\n",
       "    </tr>\n",
       "  </thead>\n",
       "  <tbody>\n",
       "    <tr>\n",
       "      <th>16</th>\n",
       "      <td>0.901544</td>\n",
       "      <td>0.002699</td>\n",
       "      <td>1</td>\n",
       "      <td>3</td>\n",
       "      <td>scale</td>\n",
       "      <td>rbf</td>\n",
       "    </tr>\n",
       "    <tr>\n",
       "      <th>20</th>\n",
       "      <td>0.901544</td>\n",
       "      <td>0.002699</td>\n",
       "      <td>1</td>\n",
       "      <td>4</td>\n",
       "      <td>scale</td>\n",
       "      <td>rbf</td>\n",
       "    </tr>\n",
       "    <tr>\n",
       "      <th>12</th>\n",
       "      <td>0.901544</td>\n",
       "      <td>0.002699</td>\n",
       "      <td>1</td>\n",
       "      <td>2</td>\n",
       "      <td>scale</td>\n",
       "      <td>rbf</td>\n",
       "    </tr>\n",
       "    <tr>\n",
       "      <th>44</th>\n",
       "      <td>0.900182</td>\n",
       "      <td>0.004567</td>\n",
       "      <td>10</td>\n",
       "      <td>4</td>\n",
       "      <td>scale</td>\n",
       "      <td>rbf</td>\n",
       "    </tr>\n",
       "    <tr>\n",
       "      <th>40</th>\n",
       "      <td>0.900182</td>\n",
       "      <td>0.004567</td>\n",
       "      <td>10</td>\n",
       "      <td>3</td>\n",
       "      <td>scale</td>\n",
       "      <td>rbf</td>\n",
       "    </tr>\n",
       "  </tbody>\n",
       "</table>\n",
       "</div>"
      ],
      "text/plain": [
       "    mean_test_score  std_test_score param_C param_degree param_gamma  \\\n",
       "16         0.901544        0.002699       1            3       scale   \n",
       "20         0.901544        0.002699       1            4       scale   \n",
       "12         0.901544        0.002699       1            2       scale   \n",
       "44         0.900182        0.004567      10            4       scale   \n",
       "40         0.900182        0.004567      10            3       scale   \n",
       "\n",
       "   param_kernel  \n",
       "16          rbf  \n",
       "20          rbf  \n",
       "12          rbf  \n",
       "44          rbf  \n",
       "40          rbf  "
      ]
     },
     "execution_count": 43,
     "metadata": {},
     "output_type": "execute_result"
    }
   ],
   "source": [
    "results_SVM.sort_values(by= \"mean_test_score\", ascending= False)"
   ]
  },
  {
   "cell_type": "markdown",
   "id": "65d5fd7f-8adf-4fb5-bd62-053c12ee358b",
   "metadata": {},
   "source": [
    "# 5. Evaluation\n",
    "\n",
    "After training and optimizing our model, let's assess its performance using the test data and calculating various metrics."
   ]
  },
  {
   "cell_type": "markdown",
   "id": "58c3c37b-9a1d-47b5-9567-09402ad4b02c",
   "metadata": {},
   "source": [
    "## 5.1. Evaluation Metrics\n",
    "\n",
    "In this section we'll evaluate our model using accuracy, precision, recall, and F1 score. \n",
    "\n",
    "Understanding these metrics provides insights into how well our model is performing and helps us make informed decisions about potential improvements or adjustments."
   ]
  },
  {
   "cell_type": "code",
   "execution_count": 44,
   "id": "56e500ec-76eb-471e-a6d5-10341bbc3b0d",
   "metadata": {},
   "outputs": [],
   "source": [
    "RFC_model = RandomForestClassifier(n_estimators = 200, criterion = 'entropy')\n",
    "\n",
    "RFC_model.fit(X, y)\n",
    "y_pred = RFC_model.predict(X_test_real)\n",
    "\n",
    "accuracy = accuracy_score(y_test_real, y_pred)\n",
    "precision = precision_score(y_test_real, y_pred, average = \"macro\")\n",
    "recall = recall_score(y_test_real, y_pred, average = \"macro\")\n",
    "f1 = f1_score(y_test_real, y_pred, average = \"macro\")"
   ]
  },
  {
   "cell_type": "code",
   "execution_count": 45,
   "id": "a5ac5665-c0ca-40fe-9a10-038b84ee8862",
   "metadata": {},
   "outputs": [
    {
     "name": "stdout",
     "output_type": "stream",
     "text": [
      "Accuracy: 0.9019568287270526\n",
      "Precision: 0.786208915413592\n",
      "Recall: 0.664557998246763\n",
      "F1-score: 0.6763034317980087\n"
     ]
    }
   ],
   "source": [
    "print(\"Accuracy:\"     , accuracy)\n",
    "print(\"Precision:\"    , precision)\n",
    "print(\"Recall:\" , recall)\n",
    "print(\"F1-score:\"     , f1)"
   ]
  },
  {
   "cell_type": "code",
   "execution_count": 46,
   "id": "9223d1dc-bf3b-4f62-b353-ff1a8552f6c1",
   "metadata": {
    "tags": []
   },
   "outputs": [
    {
     "data": {
      "image/png": "[encoded data removed]",
      "text/plain": [
       "<Figure size 640x480 with 2 Axes>"
      ]
     },
     "metadata": {},
     "output_type": "display_data"
    }
   ],
   "source": [
    "cm = confusion_matrix(y_test_real, y_pred)\n",
    "labels = ['hate', 'offensive', 'neutral']\n",
    "disp = ConfusionMatrixDisplay(confusion_matrix = cm, display_labels = labels)\n",
    "disp.plot();"
   ]
  },
  {
   "cell_type": "markdown",
   "id": "d6646402-3bbe-4321-b455-f5d4890c1caa",
   "metadata": {},
   "source": [
    "# 6. Conclusions"
   ]
  },
  {
   "cell_type": "markdown",
   "id": "fde0f15d-943b-4ffc-92ac-fd279540b340",
   "metadata": {},
   "source": [
    "It's worth noting that, despite having an accuracy of 90%, hate comments are mostly confused with offensive comments. This is due to the similarity in vocabulary used between them and a higher number of offensive comments compared to hate comments, creating a narrow separation between both domains. Consequently, the model tends to easily confuse them.\n",
    "\n",
    "On the other hand, it is observed that the model distinguishes with an acceptable precision between hate/offensive comments and neutral ones, being able to identify the former and make decisions accordingly.\n",
    "\n",
    "Finally, it should be emphasized that this model requires improvement, as it is necessary to increase accuracy in identifying hate comments, given their significance in the detection process."
   ]
  },
  {
   "cell_type": "code",
   "execution_count": null,
   "id": "d4eb93ff-bd1e-4852-9128-b98fd986589f",
   "metadata": {},
   "outputs": [],
   "source": []
  }
 ],
 "metadata": {
  "kernelspec": {
   "display_name": "Python 3 (ipykernel)",
   "language": "python",
   "name": "python3"
  },
  "language_info": {
   "codemirror_mode": {
    "name": "ipython",
    "version": 3
   },
   "file_extension": ".py",
   "mimetype": "text/x-python",
   "name": "python",
   "nbconvert_exporter": "python",
   "pygments_lexer": "ipython3",
   "version": "3.11.5"
  }
 },
 "nbformat": 4,
 "nbformat_minor": 5
}
